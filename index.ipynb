{
 "cells": [
  {
   "cell_type": "markdown",
   "metadata": {},
   "source": [
    "# Loading a Bloom Filter"
   ]
  },
  {
   "cell_type": "markdown",
   "metadata": {},
   "source": [
    "## Do the following:\n",
    "\n",
    "* Connect to a testnet node\n",
    "* Load a filter for your testnet address\n",
    "* Send a request for transactions from the block which had your previous testnet transaction\n",
    "* Receive the merkleblock and tx messages."
   ]
  },
  {
   "cell_type": "code",
   "execution_count": 4,
   "metadata": {},
   "outputs": [
    {
     "ename": "SyntaxError",
     "evalue": "invalid syntax (<ipython-input-4-0e7b66c7d791>, line 12)",
     "output_type": "error",
     "traceback": [
      "\u001b[0;36m  File \u001b[0;32m\"<ipython-input-4-0e7b66c7d791>\"\u001b[0;36m, line \u001b[0;32m12\u001b[0m\n\u001b[0;31m    class BloomFilter:\u001b[0m\n\u001b[0m        ^\u001b[0m\n\u001b[0;31mSyntaxError\u001b[0m\u001b[0;31m:\u001b[0m invalid syntax\n"
     ]
    }
   ],
   "source": [
    "# Exercise 2.2\n",
    "\n",
    "from bloomfilter import BloomFilter, BIP37_CONSTANT\n",
    "from helper import little_endian_to_int, hash256, decode_base58, murmur3\n",
    "from ecc import PrivateKey\n",
    "from network import (\n",
    "    GetDataMessage,\n",
    "    GetHeadersMessage,\n",
    "    HeadersMessage,\n",
    "    SimpleNode,\n",
    "\n",
    "class BloomFilter:\n",
    "\n",
    "    def __init__(self, size, function_count, tweak):\n",
    "        self.size = size\n",
    "        self.bit_field = [0] * (size * 8)\n",
    "        self.function_count = function_count\n",
    "        self.tweak = tweak\n",
    "\n",
    "    def add(self, item):\n",
    "        '''Add an item to the filter'''\n",
    "        # iterate self.function_count number of times\n",
    "        for i in range(self.function_count):\n",
    "            # BIP0037 spec seed is i*BIP37_CONSTANT + self.tweak\n",
    "            seed = i * BIP37_CONSTANT + self.tweak\n",
    "            # get the murmur3 hash given that seed\n",
    "            h = murmur3(item, seed=seed)\n",
    "            # set the bit at the hash mod the bitfield size (self.size*8)\n",
    "            bit = h % (self.size * 8)\n",
    "            # set the bit field at bit to be 1\n",
    "            self.bit_field[bit] = 1\n",
    "\n",
    "block_hash = bytes.fromhex('0000000053787814ed9dd8c029d0a0a9af4ab8ec0591dc31bdc4ab31fae88ce9')\n",
    "passphrase = b'Jimmy Song Programming Blockchain'  # FILL THIS IN\n",
    "secret = little_endian_to_int(hash256(passphrase))\n",
    "private_key = PrivateKey(secret=secret)\n",
    "addr = private_key.point.address(testnet=True)\n",
    "print(addr)\n",
    "filter_size = 30\n",
    "filter_num_functions = 5\n",
    "filter_tweak = 90210  # FILL THIS IN\n",
    "\n",
    "# get the hash160 of the address using decode_base58\n",
    "h160 = decode_base58(addr)\n",
    "# create a bloom filter using the filter_size, filter_num_functions and filter_tweak above\n",
    "bf = BloomFilter(filter_size, filter_num_functions, filter_tweak)\n",
    "# add the h160 to the bloom filter\n",
    "bf.add(h160)\n",
    "\n",
    "# connect to tbtc.programmingblockchain.com in testnet mode, logging True\n",
    "node = SimpleNode('tbtc.programmingblockchain.com', testnet=True, logging=True)\n",
    "# complete the handshake\n",
    "node.handshake()\n",
    "# send the filterload command with bf.filterload() as the payload\n",
    "node.send(b'filterload', bf.filterload())\n",
    "# create a getdata message\n",
    "getdata = GetDataMessage()\n",
    "# add_data (FILTERED_BLOCK_DATA_TYPE, block_hash) to request the block\n",
    "getdata.add_data(FILTERED_BLOCK_DATA_TYPE, block_hash)\n",
    "# send the getdata message\n",
    "node.send(getdata.command, getdata.serialize())\n",
    "# wait for the merkleblock command\n",
    "envelope = node.wait_for_commands([b'merkleblock'])\n",
    "# wait for the tx command\n",
    "envelope = node.wait_for_commands([b'tx'])\n",
    "# print the envelope payload in hex\n",
    "print(envelope.payload.hex())"
   ]
  },
  {
   "cell_type": "code",
   "execution_count": null,
   "metadata": {},
   "outputs": [],
   "source": []
  }
 ],
 "metadata": {
  "kernelspec": {
   "display_name": "Python 3",
   "language": "python",
   "name": "python3"
  },
  "language_info": {
   "codemirror_mode": {
    "name": "ipython",
    "version": 3
   },
   "file_extension": ".py",
   "mimetype": "text/x-python",
   "name": "python",
   "nbconvert_exporter": "python",
   "pygments_lexer": "ipython3",
   "version": "3.6.6"
  }
 },
 "nbformat": 4,
 "nbformat_minor": 2
}
